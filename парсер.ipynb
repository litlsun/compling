{
  "nbformat": 4,
  "nbformat_minor": 0,
  "metadata": {
    "colab": {
      "provenance": [],
      "authorship_tag": "ABX9TyPVqhHRFKRU2MBRIpEZiser",
      "include_colab_link": true
    },
    "kernelspec": {
      "name": "python3",
      "display_name": "Python 3"
    },
    "language_info": {
      "name": "python"
    }
  },
  "cells": [
    {
      "cell_type": "markdown",
      "metadata": {
        "id": "view-in-github",
        "colab_type": "text"
      },
      "source": [
        "<a href=\"https://colab.research.google.com/github/litlsun/crispy-spoon/blob/main/%D0%BF%D0%B0%D1%80%D1%81%D0%B5%D1%80.ipynb\" target=\"_parent\"><img src=\"https://colab.research.google.com/assets/colab-badge.svg\" alt=\"Open In Colab\"/></a>"
      ]
    },
    {
      "cell_type": "code",
      "execution_count": 11,
      "metadata": {
        "colab": {
          "base_uri": "https://localhost:8080/"
        },
        "id": "zipZRrlKYWSM",
        "outputId": "6b8f2452-ded0-4b20-c61e-2696603ae500"
      },
      "outputs": [
        {
          "output_type": "stream",
          "name": "stdout",
          "text": [
            "Requirement already satisfied: vk_api in /usr/local/lib/python3.10/dist-packages (11.9.9)\n",
            "Requirement already satisfied: requests in /usr/local/lib/python3.10/dist-packages (from vk_api) (2.32.3)\n",
            "Requirement already satisfied: charset-normalizer<4,>=2 in /usr/local/lib/python3.10/dist-packages (from requests->vk_api) (3.4.0)\n",
            "Requirement already satisfied: idna<4,>=2.5 in /usr/local/lib/python3.10/dist-packages (from requests->vk_api) (3.10)\n",
            "Requirement already satisfied: urllib3<3,>=1.21.1 in /usr/local/lib/python3.10/dist-packages (from requests->vk_api) (2.2.3)\n",
            "Requirement already satisfied: certifi>=2017.4.17 in /usr/local/lib/python3.10/dist-packages (from requests->vk_api) (2024.8.30)\n",
            "Error accessing VK API: [5] User authorization failed: invalid access_token (4).\n",
            "No data\n"
          ]
        }
      ],
      "source": [
        "!pip install vk_api\n",
        "import vk_api\n",
        "import csv\n",
        "import pandas as pd\n",
        "\n",
        "\n",
        "def scrape_wall_data(token, owner_id, count=10):\n",
        "    \"\"\"\n",
        "    Функция для парсинга постов из стены сообщества ВКонтакте.\n",
        "\n",
        "    Аргументы:\n",
        "    token (str): Токен доступа к VK API.\n",
        "    owner_id (int): ID владельца стены (отрицательный ID сообщества).\n",
        "    count (int): Количество постов для получения (по умолчанию 10).\n",
        "\n",
        "    Возвращает:\n",
        "    list: Список словарей с данными о постах: post_id, text, attachments и т.д.\n",
        "    \"\"\"\n",
        "    try:\n",
        "        # Инициализация VK API\n",
        "        vk_session = vk_api.VkApi(token=token)\n",
        "        vk = vk_session.get_api()\n",
        "\n",
        "        # Метод wall.get - получение постов со стены\n",
        "        posts = vk.wall.get(owner_id=owner_id, count=count)['items']\n",
        "\n",
        "        # Хранилище для данных\n",
        "        scraped_data = []\n",
        "\n",
        "        # Парсинг\n",
        "        for post in posts:\n",
        "            post_data = {\n",
        "                'post_id': post['id'],\n",
        "                'text': post['text'],  # Текст публикации\n",
        "                'attachments': post.get('attachments', []),  # Прикрепленные фото или другие элементы\n",
        "                'date': post['date'],  # Дата публикации\n",
        "                'likes': post['likes']['count'],  # Количество лайков\n",
        "                'comments': post['comments']['count'],  # Количество комментариев\n",
        "                'reposts': post['reposts']['count'],  # Количество репостов\n",
        "            }\n",
        "            scraped_data.append(post_data)\n",
        "\n",
        "        return scraped_data\n",
        "\n",
        "    except vk_api.exceptions.ApiError as e:\n",
        "        print(f\"Error accessing VK API: {e}\")\n",
        "        return []\n",
        "\n",
        "    # Функция для сохранения данных в CSV\n",
        "\n",
        "\n",
        "def save_to_csv(data, file_name='vk_wall_posts.csv'):\n",
        "    with open(file_name, mode='w', newline='', encoding='utf-8') as file:\n",
        "        writer = csv.DictWriter(file,\n",
        "                                fieldnames=['post_id', 'text', 'attachments', 'date', 'likes', 'comments', 'reposts'])\n",
        "        writer.writeheader()\n",
        "        for row in data:\n",
        "            writer.writerow(row)\n",
        "\n",
        "        # Функция для анализа данных\n",
        "\n",
        "\n",
        "def stats(data):\n",
        "    # Конвертируем данные в DataFrame для анализа\n",
        "    df = pd.DataFrame(data)\n",
        "\n",
        "    # Выводим часть данных\n",
        "    print(\"Первые 5 постов:\")\n",
        "    print(df.head())\n",
        "\n",
        "    # Визуализация статистики (например, распределение лайков)\n",
        "    df['likes'].hist()\n",
        "\n",
        "    # Настройки для отображения графика\n",
        "    plt.title('Распределение лайков по постам')\n",
        "    plt.xlabel('Количество лайков')\n",
        "    plt.ylabel('Количество постов')\n",
        "    plt.show()\n",
        "\n",
        "\n",
        "# Функция для выполнения задачи\n",
        "def main():\n",
        "    # Введите ваш токен VK API\n",
        "    token = 'vk1.a.irMhaaCOGmosonggrGubXemHF-NGG3MxKVDn0NhIsB_FOkk5KTx2lXbnMLRVidIt96g4rZ9jcI0pxvhPHEqKWkV4f1dWUudrOpvITUNaI0JUvpytMU3ckpqcu65NFACt6qomLx6ssVhfkYjeZMjusJMFffn11h_oMX5i7Fi6aPH7G2ccg9Gt4Q2aY8zCFiprxVeX3namdZApyEqrI1F3YQ&expires_in=86400'  # Замените на ваш токен\n",
        "\n",
        "    # Введите ID сообщества\n",
        "    owner_id = -30513532\n",
        "\n",
        "    # Введите количество публикаций для скрейпинга\n",
        "    num_posts = 1  # Измените количество постов, если нужно\n",
        "\n",
        "    # Запустите функцию для скрейпинга\n",
        "    wall_data = scrape_wall_data(token, owner_id, count=num_posts)\n",
        "\n",
        "    if wall_data:\n",
        "        # Запустите функцию для сохранения *.csv\n",
        "        save_to_csv(wall_data)\n",
        "        print(f\"Данные сохранены в {num_posts} постов в файл vk_wall_posts.csv\")\n",
        "\n",
        "        # Выведите статистику по выгруженной информации\n",
        "        stats(wall_data)\n",
        "    else:\n",
        "        print(\"No data\")\n",
        "\n",
        "\n",
        "if __name__ == \"__main__\":\n",
        "    main()"
      ]
    }
  ]
}